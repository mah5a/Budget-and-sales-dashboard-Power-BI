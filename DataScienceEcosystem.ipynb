{
 "cells": [
  {
   "cell_type": "markdown",
   "id": "e74cfe67-1c5f-489e-8ebc-19a1e2756bb0",
   "metadata": {},
   "source": [
    "# Data Science Tools and Ecosystem"
   ]
  },
  {
   "cell_type": "markdown",
   "id": "6fb652b4-eed7-4058-8829-7453651066e4",
   "metadata": {},
   "source": [
    "In this notebook, Data Science Tools and Ecosystem are summarized."
   ]
  },
  {
   "cell_type": "markdown",
   "id": "950db4ed-3652-4e5d-9999-1e5aad83d94c",
   "metadata": {
    "tags": []
   },
   "source": [
    "__ Objectives: __\n",
    "\n",
    "Some of the popular languages that Data Scientists use are:\n",
    "* Python\n",
    "* R\n",
    "* SQL"
   ]
  },
  {
   "cell_type": "markdown",
   "id": "00c5ab63-048b-4866-a499-ace2c028d508",
   "metadata": {},
   "source": [
    "Some of the popular languages that Data Scientists use are:\n",
    "1. Python\n",
    "2. R\n",
    "3. SQL"
   ]
  },
  {
   "cell_type": "markdown",
   "id": "4cde6636-70e7-47c8-a66a-12187006d9f7",
   "metadata": {},
   "source": [
    "Some of the commonly used libraries used by Data Scientists include:\n",
    "1. Pandas\n",
    "2. NumPy\n",
    "3. Matplotlib"
   ]
  },
  {
   "cell_type": "markdown",
   "id": "65912cf4-30a6-4dbe-8d49-35811345c311",
   "metadata": {},
   "source": [
    "|Data Science Tools|\n",
    "|------------------|\n",
    "|Jupyter Notebook|\n",
    "|Rstudio|\n",
    "| Anaconda|\n",
    "\n"
   ]
  },
  {
   "cell_type": "markdown",
   "id": "b493106e-394f-421d-8241-bf2e5875ab3e",
   "metadata": {},
   "source": [
    "### Below are a few examples of evaluating arithmetic expressions in Python:\n"
   ]
  },
  {
   "cell_type": "code",
   "execution_count": 8,
   "id": "9f6d0e79-b7a1-48d0-9fa4-70e5941f176c",
   "metadata": {
    "tags": []
   },
   "outputs": [
    {
     "data": {
      "text/plain": [
       "17"
      ]
     },
     "execution_count": 8,
     "metadata": {},
     "output_type": "execute_result"
    }
   ],
   "source": [
    "# This a simple arithmetic expression to mutiply then add integers\n",
    "(3*4)+5"
   ]
  },
  {
   "cell_type": "code",
   "execution_count": 9,
   "id": "2ecb1d2f-3aab-4752-834e-556afe2173d4",
   "metadata": {
    "tags": []
   },
   "outputs": [
    {
     "name": "stdout",
     "output_type": "stream",
     "text": [
      "hours:  3\n",
      "minutes: 20\n"
     ]
    }
   ],
   "source": [
    "# This will convert 200 minutes to hours by diving by 60\n",
    "hours = 200//60\n",
    "minutes = 200 % 60\n",
    "print('hours: ', hours)\n",
    "print('minutes:', minutes)"
   ]
  },
  {
   "cell_type": "markdown",
   "id": "e187fc8f-3dfb-46c6-95e2-2ad8339e904d",
   "metadata": {},
   "source": [
    "## Author\n",
    "Zahra Karamimehr"
   ]
  },
  {
   "cell_type": "code",
   "execution_count": null,
   "id": "8ee3cad8-58ce-4545-97a2-1e0fba2487cb",
   "metadata": {},
   "outputs": [],
   "source": []
  }
 ],
 "metadata": {
  "kernelspec": {
   "display_name": "Python",
   "language": "python",
   "name": "conda-env-python-py"
  },
  "language_info": {
   "codemirror_mode": {
    "name": "ipython",
    "version": 3
   },
   "file_extension": ".py",
   "mimetype": "text/x-python",
   "name": "python",
   "nbconvert_exporter": "python",
   "pygments_lexer": "ipython3",
   "version": "3.7.12"
  }
 },
 "nbformat": 4,
 "nbformat_minor": 5
}
